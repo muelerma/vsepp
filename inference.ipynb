{
 "cells": [
  {
   "cell_type": "markdown",
   "metadata": {},
   "source": [
    "# Neural Fashion Product Search\n",
    "\n",
    "Based on [VSE++](https://arxiv.org/pdf/1707.05612) and the Kaggle Fashion Product Images [dataset](https://www.kaggle.com/paramaggarwal/fashion-product-images-dataset).  \n",
    "\n",
    "Please refer to this GitHub [repo](https://github.com/muelerma/vsepp) for implementation details.\n"
   ]
  },
  {
   "cell_type": "code",
   "execution_count": null,
   "metadata": {},
   "outputs": [],
   "source": [
    "import ipywidgets as widgets\n",
    "import voila\n",
    "\n",
    "import torch\n",
    "import os\n",
    "from pathlib import Path\n",
    "\n",
    "from inference import load_model, load_embs, query_embd, get_data_loader, top_k_img"
   ]
  },
  {
   "cell_type": "code",
   "execution_count": null,
   "metadata": {},
   "outputs": [],
   "source": [
    "ON_GPU = True\n",
    "DATASET= \"fashion\"\n",
    "EMBS_PATH = \"data/fashion\"\n",
    "SPLIT = \"test\"\n",
    "VOCAB_PATH = \"vocab\""
   ]
  },
  {
   "cell_type": "code",
   "execution_count": null,
   "metadata": {},
   "outputs": [],
   "source": [
    "height = 4\n",
    "width = 4"
   ]
  },
  {
   "cell_type": "code",
   "execution_count": null,
   "metadata": {},
   "outputs": [],
   "source": [
    "checkpoint = torch.load(\"./runs/runX/model_best.pth.tar\", map_location=torch.device(\"cpu\"))\n",
    "\n",
    "model, vocab = load_model(checkpoint, DATASET)\n",
    "img_embs = load_embs(EMBS_PATH, SPLIT)\n"
   ]
  },
  {
   "cell_type": "code",
   "execution_count": null,
   "metadata": {},
   "outputs": [],
   "source": [
    "def create_image(query, img_file):\n",
    "    img_path = Path(\n",
    "        f\"/home/dl-station/deep-learning/search/vsepp_orig/data/fashion/images/{img_file}\"\n",
    "    )\n",
    "    with open(img_path, \"rb\") as f:\n",
    "        img = f.read()\n",
    "    return widgets.Image(\n",
    "                        value=img,\n",
    "                        format='png',\n",
    "                        width=128,\n",
    "                        height=128,\n",
    "                        layout=widgets.Layout(height='auto', width='auto')\n",
    "                        )"
   ]
  },
  {
   "cell_type": "code",
   "execution_count": null,
   "metadata": {},
   "outputs": [],
   "source": [
    "def create_grid(h, w, img_files):\n",
    "    grid = widgets.GridspecLayout(height, width,grid_gap=\"10px\")\n",
    "\n",
    "    for i in range(height):\n",
    "        for j in range(width):\n",
    "            grid[i, j] = create_image(inp.value, img_files[i*width + j])\n",
    "    \n",
    "    return grid"
   ]
  },
  {
   "cell_type": "code",
   "execution_count": null,
   "metadata": {},
   "outputs": [],
   "source": [
    "def search_btn_cb(event):\n",
    "    print(\"Search term: \", inp.value)\n",
    "    txt_emb = query_embd(inp.value, model, vocab, ON_GPU)\n",
    "    print(\"Text Embd shape: \", txt_emb.shape)\n",
    "    data_loader = get_data_loader(SPLIT, vocab, checkpoint[\"opt\"])\n",
    "    img_files = top_k_img(txt_emb, img_embs, height * width, data_loader)\n",
    "    print(\"Img files: \", img_files)\n",
    "    img_grid = create_grid(height, width, img_files)\n",
    "\n",
    "    out.clear_output()\n",
    "    with out:\n",
    "        display(img_grid)\n"
   ]
  },
  {
   "cell_type": "code",
   "execution_count": null,
   "metadata": {},
   "outputs": [],
   "source": [
    "## create widgets"
   ]
  },
  {
   "cell_type": "code",
   "execution_count": null,
   "metadata": {},
   "outputs": [],
   "source": [
    "btn = widgets.Button(description=\"Search\")\n",
    "inp = widgets.Text()\n",
    "out = widgets.Output()"
   ]
  },
  {
   "cell_type": "code",
   "execution_count": null,
   "metadata": {},
   "outputs": [],
   "source": [
    "btn.on_click(search_btn_cb)"
   ]
  },
  {
   "cell_type": "code",
   "execution_count": null,
   "metadata": {},
   "outputs": [],
   "source": [
    "display(widgets.HBox([inp, btn]))"
   ]
  },
  {
   "cell_type": "code",
   "execution_count": null,
   "metadata": {},
   "outputs": [],
   "source": [
    "display(out)"
   ]
  },
  {
   "cell_type": "code",
   "execution_count": null,
   "metadata": {},
   "outputs": [],
   "source": []
  },
  {
   "cell_type": "code",
   "execution_count": null,
   "metadata": {},
   "outputs": [],
   "source": []
  },
  {
   "cell_type": "code",
   "execution_count": null,
   "metadata": {},
   "outputs": [],
   "source": []
  },
  {
   "cell_type": "code",
   "execution_count": null,
   "metadata": {},
   "outputs": [],
   "source": []
  }
 ],
 "metadata": {
  "kernelspec": {
   "display_name": "Python [conda env:jina]",
   "language": "python",
   "name": "conda-env-jina-py"
  },
  "language_info": {
   "codemirror_mode": {
    "name": "ipython",
    "version": 3
   },
   "file_extension": ".py",
   "mimetype": "text/x-python",
   "name": "python",
   "nbconvert_exporter": "python",
   "pygments_lexer": "ipython3",
   "version": "3.8.5"
  }
 },
 "nbformat": 4,
 "nbformat_minor": 2
}
